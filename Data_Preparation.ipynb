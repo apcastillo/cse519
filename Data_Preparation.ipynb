{
 "cells": [
  {
   "cell_type": "code",
   "execution_count": 14,
   "id": "004eb146-ec7a-4e0d-99e4-e746b25a179b",
   "metadata": {},
   "outputs": [],
   "source": [
    "# Importing the necessary library's\n",
    "\n",
    "import pandas as pd\n",
    "import base64\n",
    "import os\n",
    "from requests import get, post\n",
    "import json\n",
    "import time"
   ]
  },
  {
   "cell_type": "code",
   "execution_count": 3,
   "id": "1c7ad085-b94f-411c-b753-67dec75457a5",
   "metadata": {},
   "outputs": [
    {
     "name": "stdout",
     "output_type": "stream",
     "text": [
      "                         title  rank        date        artist  \\\n",
      "0      Chantaje (feat. Maluma)     1  2017-01-01       Shakira   \n",
      "1  Vente Pa' Ca (feat. Maluma)     2  2017-01-01  Ricky Martin   \n",
      "2   Reggaetón Lento (Bailemos)     3  2017-01-01          CNCO   \n",
      "\n",
      "                                                 url     region   chart  \\\n",
      "0  https://open.spotify.com/track/6mICuAdrwEjh6Y6...  Argentina  top200   \n",
      "1  https://open.spotify.com/track/7DM4BPaS7uofFul...  Argentina  top200   \n",
      "2  https://open.spotify.com/track/3AEZUABDXNtecAO...  Argentina  top200   \n",
      "\n",
      "           trend   streams  \n",
      "0  SAME_POSITION  253019.0  \n",
      "1        MOVE_UP  223988.0  \n",
      "2      MOVE_DOWN  210943.0  \n"
     ]
    }
   ],
   "source": [
    "# Reading the dataset and creating a dataframe\n",
    "\n",
    "df = pd.read_csv('charts.csv')\n",
    "print(df.head(3))"
   ]
  },
  {
   "cell_type": "code",
   "execution_count": 4,
   "id": "86deaf32-500a-4534-a113-e33b99f6728f",
   "metadata": {},
   "outputs": [
    {
     "name": "stdout",
     "output_type": "stream",
     "text": [
      "455057\n"
     ]
    }
   ],
   "source": [
    "# Filtering the dataframe and using the country United States only\n",
    "\n",
    "df = df[df['region'] == 'United States']\n",
    "print(len(df))"
   ]
  },
  {
   "cell_type": "code",
   "execution_count": 5,
   "id": "0f023db8-90e3-4f87-8444-cc52eb2b22d4",
   "metadata": {},
   "outputs": [
    {
     "name": "stdout",
     "output_type": "stream",
     "text": [
      "                                    title  rank        date  \\\n",
      "8246  Bad and Boujee (feat. Lil Uzi Vert)     1  2017-01-01   \n",
      "8247                            Fake Love     2  2017-01-01   \n",
      "8248                              Starboy     3  2017-01-01   \n",
      "8249                               Closer     4  2017-01-01   \n",
      "8250                        Black Beatles     5  2017-01-01   \n",
      "\n",
      "                        artist  \\\n",
      "8246                     Migos   \n",
      "8247                     Drake   \n",
      "8248     The Weeknd, Daft Punk   \n",
      "8249  The Chainsmokers, Halsey   \n",
      "8250  Rae Sremmurd, Gucci Mane   \n",
      "\n",
      "                                                    url         region  \\\n",
      "8246  https://open.spotify.com/track/4Km5HrUvYTaSUfi...  United States   \n",
      "8247  https://open.spotify.com/track/343YBumqHu19cGo...  United States   \n",
      "8248  https://open.spotify.com/track/5aAx2yezTd8zXrk...  United States   \n",
      "8249  https://open.spotify.com/track/7BKLCZ1jbUBVqRi...  United States   \n",
      "8250  https://open.spotify.com/track/6fujklziTHa8uoM...  United States   \n",
      "\n",
      "       chart          trend    streams  \n",
      "8246  top200  SAME_POSITION  1371493.0  \n",
      "8247  top200  SAME_POSITION  1180074.0  \n",
      "8248  top200  SAME_POSITION  1064351.0  \n",
      "8249  top200  SAME_POSITION  1010492.0  \n",
      "8250  top200  SAME_POSITION   874289.0  \n"
     ]
    }
   ],
   "source": [
    "print(df.head())"
   ]
  },
  {
   "cell_type": "code",
   "execution_count": 6,
   "id": "dc17ee3b-d2d1-45eb-aca1-252a21e15eb3",
   "metadata": {},
   "outputs": [
    {
     "name": "stdout",
     "output_type": "stream",
     "text": [
      "11842\n"
     ]
    }
   ],
   "source": [
    "# Droppinf duplicate values\n",
    "\n",
    "df = df.drop_duplicates(subset=['title'], keep='first')\n",
    "print(len(df))"
   ]
  },
  {
   "cell_type": "code",
   "execution_count": 7,
   "id": "1f263dfa-b686-408d-8381-62c2a6057e3a",
   "metadata": {},
   "outputs": [
    {
     "name": "stdout",
     "output_type": "stream",
     "text": [
      "                                    title  rank        date  \\\n",
      "8246  Bad and Boujee (feat. Lil Uzi Vert)     1  2017-01-01   \n",
      "8247                            Fake Love     2  2017-01-01   \n",
      "8248                              Starboy     3  2017-01-01   \n",
      "8249                               Closer     4  2017-01-01   \n",
      "8250                        Black Beatles     5  2017-01-01   \n",
      "\n",
      "                        artist  \\\n",
      "8246                     Migos   \n",
      "8247                     Drake   \n",
      "8248     The Weeknd, Daft Punk   \n",
      "8249  The Chainsmokers, Halsey   \n",
      "8250  Rae Sremmurd, Gucci Mane   \n",
      "\n",
      "                                                    url         region  \\\n",
      "8246  https://open.spotify.com/track/4Km5HrUvYTaSUfi...  United States   \n",
      "8247  https://open.spotify.com/track/343YBumqHu19cGo...  United States   \n",
      "8248  https://open.spotify.com/track/5aAx2yezTd8zXrk...  United States   \n",
      "8249  https://open.spotify.com/track/7BKLCZ1jbUBVqRi...  United States   \n",
      "8250  https://open.spotify.com/track/6fujklziTHa8uoM...  United States   \n",
      "\n",
      "       chart          trend    streams                title_id  \n",
      "8246  top200  SAME_POSITION  1371493.0  4Km5HrUvYTaSUfiSGPJeQR  \n",
      "8247  top200  SAME_POSITION  1180074.0  343YBumqHu19cGoGARUTsd  \n",
      "8248  top200  SAME_POSITION  1064351.0  5aAx2yezTd8zXrkmtKl66Z  \n",
      "8249  top200  SAME_POSITION  1010492.0  7BKLCZ1jbUBVqRi2FVlTVw  \n",
      "8250  top200  SAME_POSITION   874289.0  6fujklziTHa8uoM5OQSfIo  \n"
     ]
    }
   ],
   "source": [
    "# Creating a column 'track_id'\n",
    "\n",
    "df['title_id'] = df['url'].str[31:]\n",
    "print(df.head())"
   ]
  },
  {
   "cell_type": "code",
   "execution_count": 8,
   "id": "70bb0e25-7318-413b-af0a-bb18364b0a13",
   "metadata": {},
   "outputs": [
    {
     "name": "stdout",
     "output_type": "stream",
     "text": [
      "c392d42a11bf414182f69a9e40526bc6 fde1f03252d749319749f55473ee2247\n"
     ]
    }
   ],
   "source": [
    "# Spotify Credentials for generating token\n",
    "\n",
    "client_id = \"c392d42a11bf414182f69a9e40526bc6\"\n",
    "client_secret = \"fde1f03252d749319749f55473ee2247\"\n",
    "\n",
    "print(client_id, client_secret)\n",
    "\n",
    "def get_token():\n",
    "      auth_string = client_id + \":\" + client_secret\n",
    "      auth_bytes = auth_string.encode(\"utf-8\")\n",
    "      auth_base64 = str(base64.b64encode(auth_bytes), \"utf-8\")\n",
    "      url = \"https://accounts.spotify.com/api/token\"\n",
    "      headers = {\n",
    "          \"Authorization\": \"Basic \" + auth_base64,\n",
    "          \"Content-Type\": \"application/x-www-form-urlencoded\"\n",
    "      }\n",
    "      data = {\"grant_type\": \"client_credentials\"}\n",
    "      result = post(url, headers=headers, data=data)\n",
    "      json_result = json.loads (result.content)\n",
    "      token = json_result[\"access_token\"]\n",
    "      return token\n",
    "\n",
    "def get_auth_header (token):\n",
    "    return {\"Authorization\": \"Bearer \" + token}"
   ]
  },
  {
   "cell_type": "code",
   "execution_count": 9,
   "id": "94434d55-cb8e-4e7e-bd41-e29c6ba9024c",
   "metadata": {},
   "outputs": [],
   "source": [
    "# getting Audio Features Function\n",
    "\n",
    "i= 0\n",
    "\n",
    "def get_track_audio_features(token, track_id):\n",
    "    query_url = 'https://api.spotify.com/v1/audio-features?ids=' + track_id\n",
    "    headers = get_auth_header(token)\n",
    "    try:\n",
    "        result = get(query_url, headers=headers)\n",
    "    except ConnectionError as ce:\n",
    "        i = i + 1\n",
    "        print(f\"Time limit exceeded for the {i}th time\")\n",
    "        time.sleep(120)\n",
    "        token = get_token()\n",
    "        return get_track_audio_features(token, track_id)\n",
    "    if result.status_code != 200:\n",
    "        print(\"Error Received for the following query: \")\n",
    "        print(\"\\n\")\n",
    "        print(query_url)\n",
    "        print(\"\\n\")\n",
    "        return \"\"\n",
    "        \n",
    "    json_result = json.loads(result.content)\n",
    "    return json_result"
   ]
  },
  {
   "cell_type": "code",
   "execution_count": 12,
   "id": "b57454f6-c0e9-447c-b926-a61970c44e86",
   "metadata": {},
   "outputs": [
    {
     "name": "stdout",
     "output_type": "stream",
     "text": [
      "119\n"
     ]
    }
   ],
   "source": [
    "# Concatenating track_ID's to reduce the no of API calls, by sending 50 ID's in 1 API call.\n",
    "\n",
    "concatenated_track_ids = []\n",
    "\n",
    "for i in range(0, len(df['title_id']), 100):\n",
    "    concatenated_ids = ','.join(df['title_id'].iloc[i:i+100])\n",
    "    concatenated_track_ids.append(concatenated_ids)\n",
    "\n",
    "print(len(concatenated_track_ids))"
   ]
  },
  {
   "cell_type": "code",
   "execution_count": 15,
   "id": "5f52d660-f67a-4272-9e68-9ec3843c1b25",
   "metadata": {},
   "outputs": [
    {
     "name": "stdout",
     "output_type": "stream",
     "text": [
      "11842\n"
     ]
    }
   ],
   "source": [
    "# Creating a list for audio features of all the title_id's\n",
    "\n",
    "audio_features_list = []\n",
    "\n",
    "for s in concatenated_track_ids:\n",
    "    token = get_token()\n",
    "    obj = get_track_audio_features(token, s)\n",
    "    for item in obj['audio_features']:\n",
    "        audio_features_list.append(item)\n",
    "\n",
    "print(len(audio_features_list))"
   ]
  },
  {
   "cell_type": "code",
   "execution_count": 26,
   "id": "e6ca11ed-f0e5-41be-9eb3-2451969e32bc",
   "metadata": {},
   "outputs": [
    {
     "name": "stdout",
     "output_type": "stream",
     "text": [
      "{'danceability': 0.926, 'energy': 0.666, 'key': 11, 'loudness': -5.314, 'mode': 1, 'speechiness': 0.244, 'acousticness': 0.0611, 'instrumentalness': 0, 'liveness': 0.123, 'valence': 0.168, 'tempo': 127.079, 'type': 'audio_features', 'id': '4Km5HrUvYTaSUfiSGPJeQR', 'uri': 'spotify:track:4Km5HrUvYTaSUfiSGPJeQR', 'track_href': 'https://api.spotify.com/v1/tracks/4Km5HrUvYTaSUfiSGPJeQR', 'analysis_url': 'https://api.spotify.com/v1/audio-analysis/4Km5HrUvYTaSUfiSGPJeQR', 'duration_ms': 343150, 'time_signature': 4}\n"
     ]
    }
   ],
   "source": [
    "print(audio_features_list[0])"
   ]
  },
  {
   "cell_type": "code",
   "execution_count": 18,
   "id": "1cdf3c0c-5427-4321-a415-378f0f0df236",
   "metadata": {},
   "outputs": [
    {
     "name": "stdout",
     "output_type": "stream",
     "text": [
      "                                    title  rank        date  \\\n",
      "8246  Bad and Boujee (feat. Lil Uzi Vert)   1.0  2017-01-01   \n",
      "8247                            Fake Love   2.0  2017-01-01   \n",
      "8248                              Starboy   3.0  2017-01-01   \n",
      "8249                               Closer   4.0  2017-01-01   \n",
      "8250                        Black Beatles   5.0  2017-01-01   \n",
      "\n",
      "                        artist  \\\n",
      "8246                     Migos   \n",
      "8247                     Drake   \n",
      "8248     The Weeknd, Daft Punk   \n",
      "8249  The Chainsmokers, Halsey   \n",
      "8250  Rae Sremmurd, Gucci Mane   \n",
      "\n",
      "                                                    url         region  \\\n",
      "8246  https://open.spotify.com/track/4Km5HrUvYTaSUfi...  United States   \n",
      "8247  https://open.spotify.com/track/343YBumqHu19cGo...  United States   \n",
      "8248  https://open.spotify.com/track/5aAx2yezTd8zXrk...  United States   \n",
      "8249  https://open.spotify.com/track/7BKLCZ1jbUBVqRi...  United States   \n",
      "8250  https://open.spotify.com/track/6fujklziTHa8uoM...  United States   \n",
      "\n",
      "       chart          trend    streams                title_id  ...  loudness  \\\n",
      "8246  top200  SAME_POSITION  1371493.0  4Km5HrUvYTaSUfiSGPJeQR  ...    -7.757   \n",
      "8247  top200  SAME_POSITION  1180074.0  343YBumqHu19cGoGARUTsd  ...    -3.672   \n",
      "8248  top200  SAME_POSITION  1064351.0  5aAx2yezTd8zXrkmtKl66Z  ...    -5.497   \n",
      "8249  top200  SAME_POSITION  1010492.0  7BKLCZ1jbUBVqRi2FVlTVw  ...    -7.409   \n",
      "8250  top200  SAME_POSITION   874289.0  6fujklziTHa8uoM5OQSfIo  ...    -6.852   \n",
      "\n",
      "      mode  speechiness  acousticness  instrumentalness  liveness  valence  \\\n",
      "8246   0.0       0.0627       0.75900          0.000071    0.1140    0.438   \n",
      "8247   0.0       0.1020       0.12100          0.000000    0.4630    0.769   \n",
      "8248   1.0       0.0420       0.00517          0.000000    0.2540    0.652   \n",
      "8249   0.0       0.0615       0.02030          0.000000    0.0501    0.894   \n",
      "8250   0.0       0.1340       0.09280          0.000000    0.0941    0.385   \n",
      "\n",
      "        tempo  duration_ms  time_signature  \n",
      "8246  119.772     260776.0             3.0  \n",
      "8247  150.084     205493.0             4.0  \n",
      "8248   74.988     219801.0             4.0  \n",
      "8249  149.995     212000.0             4.0  \n",
      "8250  119.820     216000.0             5.0  \n",
      "\n",
      "[5 rows x 23 columns]\n"
     ]
    }
   ],
   "source": [
    "print(df.head())"
   ]
  },
  {
   "cell_type": "code",
   "execution_count": 30,
   "id": "72769999-ee90-4f99-9822-6e5d1dbecdb5",
   "metadata": {},
   "outputs": [
    {
     "name": "stderr",
     "output_type": "stream",
     "text": [
      "IOPub data rate exceeded.\n",
      "The Jupyter server will temporarily stop sending output\n",
      "to the client in order to avoid crashing it.\n",
      "To change this limit, set the config variable\n",
      "`--ServerApp.iopub_data_rate_limit`.\n",
      "\n",
      "Current values:\n",
      "ServerApp.iopub_data_rate_limit=1000000.0 (bytes/sec)\n",
      "ServerApp.rate_limit_window=3.0 (secs)\n",
      "\n"
     ]
    }
   ],
   "source": [
    "# Creating new columns in the df and populating them with their corresponding values from audio_features_list\n",
    "\n",
    "for i, obj in enumerate(audio_features_list):\n",
    "    # print(f\"For {i} -> {obj}\")\n",
    "    df['danceability'].iloc[i] = obj['danceability']\n",
    "    df['energy'].iloc[i] = obj['energy']\n",
    "    df['key'].iloc[i] = obj['key']\n",
    "    df['loudness'].iloc[i] = obj['loudness']\n",
    "    df['mode'].iloc[i] = obj['mode']\n",
    "    df['speechiness'].iloc[i] = obj['speechiness']\n",
    "    df['acousticness'].iloc[i] = obj['acousticness']\n",
    "    df['instrumentalness'].iloc[i] = obj['instrumentalness']\n",
    "    df['liveness'].iloc[i] = obj['liveness']\n",
    "    df['valence'].iloc[i] = obj['valence']\n",
    "    df['tempo'].iloc[i] = obj['tempo']\n",
    "    df['duration_ms'].iloc[i] = obj['duration_ms']\n",
    "    df['time_signature'].iloc[i] = obj['time_signature']"
   ]
  },
  {
   "cell_type": "code",
   "execution_count": 31,
   "id": "1b219a4d-d833-44f1-ae92-385ba7455f58",
   "metadata": {},
   "outputs": [
    {
     "name": "stdout",
     "output_type": "stream",
     "text": [
      "                                    title  rank        date  \\\n",
      "8246  Bad and Boujee (feat. Lil Uzi Vert)   1.0  2017-01-01   \n",
      "8247                            Fake Love   2.0  2017-01-01   \n",
      "8248                              Starboy   3.0  2017-01-01   \n",
      "\n",
      "                     artist  \\\n",
      "8246                  Migos   \n",
      "8247                  Drake   \n",
      "8248  The Weeknd, Daft Punk   \n",
      "\n",
      "                                                    url         region  \\\n",
      "8246  https://open.spotify.com/track/4Km5HrUvYTaSUfi...  United States   \n",
      "8247  https://open.spotify.com/track/343YBumqHu19cGo...  United States   \n",
      "8248  https://open.spotify.com/track/5aAx2yezTd8zXrk...  United States   \n",
      "\n",
      "       chart          trend    streams                title_id  ... liveness  \\\n",
      "8246  top200  SAME_POSITION  1371493.0  4Km5HrUvYTaSUfiSGPJeQR  ...    0.123   \n",
      "8247  top200  SAME_POSITION  1180074.0  343YBumqHu19cGoGARUTsd  ...    0.176   \n",
      "8248  top200  SAME_POSITION  1064351.0  5aAx2yezTd8zXrkmtKl66Z  ...    0.134   \n",
      "\n",
      "     valence    tempo duration_ms time_signature            type  \\\n",
      "8246   0.168  127.079      343150              4  audio_features   \n",
      "8247   0.613  134.007      210937              4  audio_features   \n",
      "8248   0.535  186.054      230453              4  audio_features   \n",
      "\n",
      "                          id                                   uri  \\\n",
      "8246  6qBFSepqLCuh5tehehc1bd  spotify:track:6qBFSepqLCuh5tehehc1bd   \n",
      "8247  3apeXzypBMnUfYcZYNX6DH  spotify:track:3apeXzypBMnUfYcZYNX6DH   \n",
      "8248  2f0pn9DkEJwAzXApnFh5cr  spotify:track:2f0pn9DkEJwAzXApnFh5cr   \n",
      "\n",
      "                                             track_href  \\\n",
      "8246  https://api.spotify.com/v1/tracks/6qBFSepqLCuh...   \n",
      "8247  https://api.spotify.com/v1/tracks/3apeXzypBMnU...   \n",
      "8248  https://api.spotify.com/v1/tracks/2f0pn9DkEJwA...   \n",
      "\n",
      "                                           analysis_url  \n",
      "8246  https://api.spotify.com/v1/audio-analysis/6qBF...  \n",
      "8247  https://api.spotify.com/v1/audio-analysis/3ape...  \n",
      "8248  https://api.spotify.com/v1/audio-analysis/2f0p...  \n",
      "\n",
      "[3 rows x 28 columns]\n"
     ]
    }
   ],
   "source": [
    "print(df.head(3))"
   ]
  },
  {
   "cell_type": "code",
   "execution_count": 32,
   "id": "a2517c01-6b84-41ed-96b1-6c717a6863e7",
   "metadata": {},
   "outputs": [],
   "source": [
    "# Creating a csv file for the same\n",
    "\n",
    "df.to_csv('Final_Data.csv', index=False)"
   ]
  },
  {
   "cell_type": "code",
   "execution_count": null,
   "id": "215cdf1b-ccbb-4110-8cb5-ff5d4267f13d",
   "metadata": {},
   "outputs": [],
   "source": []
  }
 ],
 "metadata": {
  "kernelspec": {
   "display_name": "Python 3 (ipykernel)",
   "language": "python",
   "name": "python3"
  },
  "language_info": {
   "codemirror_mode": {
    "name": "ipython",
    "version": 3
   },
   "file_extension": ".py",
   "mimetype": "text/x-python",
   "name": "python",
   "nbconvert_exporter": "python",
   "pygments_lexer": "ipython3",
   "version": "3.9.7"
  }
 },
 "nbformat": 4,
 "nbformat_minor": 5
}
